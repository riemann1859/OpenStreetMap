{
 "cells": [
  {
   "cell_type": "code",
   "execution_count": 5,
   "metadata": {},
   "outputs": [],
   "source": [
    "import xml.etree.cElementTree as ET\n",
    "import json\n",
    "import codecs"
   ]
  },
  {
   "cell_type": "code",
   "execution_count": 2,
   "metadata": {},
   "outputs": [],
   "source": [
    "add='D:/Anaconda3/mongodb-json-files/chicago.osm'\n"
   ]
  },
  {
   "cell_type": "code",
   "execution_count": 3,
   "metadata": {},
   "outputs": [],
   "source": [
    "CREATED=['version', 'changeset', 'timestamp', 'user', 'uid']\n",
    "ADDRESS=['addr:STE',\n",
    " 'addr:city',\n",
    " 'addr:country',\n",
    " 'addr:housename',\n",
    " 'addr:housenumber',\n",
    " 'addr:interpolation',\n",
    " 'addr:place',\n",
    " 'addr:postcode',\n",
    " 'addr:province',\n",
    " 'addr:state',\n",
    " 'addr:street',\n",
    " 'addr:street:name',\n",
    " 'addr:suite',\n",
    " 'addr:unit']"
   ]
  },
  {
   "cell_type": "code",
   "execution_count": 4,
   "metadata": {},
   "outputs": [],
   "source": [
    "# Via shape_element we convert every top level element tagged 'node' or 'way' into a python dictionary\n",
    "\n",
    "def shape_element(element):\n",
    "    dict_ = {}\n",
    "    dict_['created']={}\n",
    "    dict_['address']={}\n",
    "    if element.tag == \"node\" or element.tag == \"way\" :\n",
    "        if element.tag=='node':\n",
    "            dict_['pos']=[0,0]\n",
    "            dict_['type']='node'\n",
    "        else:\n",
    "            dict_['node_refs']=list()\n",
    "            dict_['type']='way'\n",
    "        for key1 in element.attrib.keys():\n",
    "            if key1 in CREATED:\n",
    "                dict_['created'][key1]=element.attrib[key1]\n",
    "            elif key1=='lat':\n",
    "                dict_['pos'][0]=float(element.attrib[key1])\n",
    "            elif key1=='lon':\n",
    "                dict_['pos'][1]=float(element.attrib[key1])\n",
    "            else:\n",
    "                dict_[key1]=element.attrib[key1]\n",
    "        for sub_element in element.getchildren():\n",
    "            if sub_element.tag=='nd':\n",
    "                dict_['node_refs'].append(sub_element.attrib['ref'])\n",
    "            if sub_element.tag=='tag':\n",
    "                if sub_element.attrib['k'] in ADDRESS:\n",
    "                    dict_['address'][sub_element.attrib['k'].split(':')[1]]=sub_element.attrib['v']\n",
    "                else:\n",
    "                    dict_[sub_element.attrib['k']]=sub_element.attrib['v']\n",
    "        if dict_['address']=={}:\n",
    "            dict_.pop('address')\n",
    "                        \n",
    "\n",
    "        \n",
    "        \n",
    "        return dict_\n",
    "    else:\n",
    "        return None\n"
   ]
  },
  {
   "cell_type": "code",
   "execution_count": 7,
   "metadata": {},
   "outputs": [],
   "source": [
    "pretty=False\n",
    "with codecs.open(\"chicago.json\", \"w\") as fo:\n",
    "    for _, element in ET.iterparse(add):\n",
    "        el = shape_element(element)\n",
    "        if el:\n",
    "            if pretty:\n",
    "                fo.write(json.dumps(el, indent=2)+\"\\n\")\n",
    "            else:\n",
    "                fo.write(json.dumps(el) + \"\\n\")\n",
    "                \n",
    "#chicago.json is approximately 2 gb"
   ]
  },
  {
   "cell_type": "code",
   "execution_count": 8,
   "metadata": {},
   "outputs": [],
   "source": [
    "pretty=True\n",
    "with codecs.open(\"chicago_with_indentation.json\", \"w\") as fo:\n",
    "    for _, element in ET.iterparse(add):\n",
    "        el = shape_element(element)\n",
    "        if el:\n",
    "            if pretty:\n",
    "                fo.write(json.dumps(el, indent=2)+\"\\n\")\n",
    "            else:\n",
    "                fo.write(json.dumps(el) + \"\\n\")\n",
    "                \n",
    "#chicago.json is approximately 2.55 gb\n",
    "#The more indentation the larger resultinf file, obviously"
   ]
  },
  {
   "cell_type": "code",
   "execution_count": 9,
   "metadata": {},
   "outputs": [],
   "source": [
    "#converting into mongodb\n",
    "\n",
    "from pymongo import MongoClient\n",
    "client = MongoClient()\n",
    "client = MongoClient('mongodb://localhost:27017/')"
   ]
  },
  {
   "cell_type": "code",
   "execution_count": 10,
   "metadata": {},
   "outputs": [],
   "source": [
    "#create a mongo database named 'chicago-osm' in local host\n",
    "\n",
    "db = client[\"chicago-osm\"]\n"
   ]
  },
  {
   "cell_type": "code",
   "execution_count": 11,
   "metadata": {},
   "outputs": [],
   "source": [
    "#create collections named nodes and ways in chicago-osm\n",
    "\n",
    "col_nodes = db[\"nodes\"]\n",
    "col_ways = db[\"ways\"]"
   ]
  },
  {
   "cell_type": "code",
   "execution_count": 14,
   "metadata": {},
   "outputs": [],
   "source": [
    "#inserting the documents into relevant collections\n",
    "\n",
    "for event, element in ET.iterparse(add,events=(\"start\",)):\n",
    "    el = shape_element(element)\n",
    "    if el:\n",
    "        if element.tag=='node':\n",
    "            col_nodes.insert_one(el)\n",
    "        else:\n",
    "            col_ways.insert_one(el)"
   ]
  },
  {
   "cell_type": "code",
   "execution_count": 15,
   "metadata": {},
   "outputs": [],
   "source": [
    "counter=0\n",
    "for event, element in ET.iterparse(add,events=(\"start\",)):\n",
    "    if element.tag=='node':\n",
    "        counter=counter+1"
   ]
  },
  {
   "cell_type": "code",
   "execution_count": 16,
   "metadata": {},
   "outputs": [
    {
     "data": {
      "text/plain": [
       "7679935"
      ]
     },
     "execution_count": 16,
     "metadata": {},
     "output_type": "execute_result"
    }
   ],
   "source": [
    "counter"
   ]
  },
  {
   "cell_type": "code",
   "execution_count": 18,
   "metadata": {},
   "outputs": [
    {
     "data": {
      "text/plain": [
       "7679935"
      ]
     },
     "execution_count": 18,
     "metadata": {},
     "output_type": "execute_result"
    }
   ],
   "source": [
    "#total number of node documents in the collection\n",
    "col_nodes.count_documents({})"
   ]
  },
  {
   "cell_type": "code",
   "execution_count": 19,
   "metadata": {},
   "outputs": [
    {
     "data": {
      "text/plain": [
       "1087021"
      ]
     },
     "execution_count": 19,
     "metadata": {},
     "output_type": "execute_result"
    }
   ],
   "source": [
    "#total number of way documents in the collection\n",
    "col_ways.count_documents({})"
   ]
  },
  {
   "cell_type": "code",
   "execution_count": null,
   "metadata": {},
   "outputs": [],
   "source": []
  }
 ],
 "metadata": {
  "kernelspec": {
   "display_name": "Python 3",
   "language": "python",
   "name": "python3"
  },
  "language_info": {
   "codemirror_mode": {
    "name": "ipython",
    "version": 3
   },
   "file_extension": ".py",
   "mimetype": "text/x-python",
   "name": "python",
   "nbconvert_exporter": "python",
   "pygments_lexer": "ipython3",
   "version": "3.6.4"
  }
 },
 "nbformat": 4,
 "nbformat_minor": 2
}
