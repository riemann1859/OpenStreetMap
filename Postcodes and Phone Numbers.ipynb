{
 "cells": [
  {
   "cell_type": "code",
   "execution_count": 1,
   "metadata": {},
   "outputs": [],
   "source": [
    "#connect to localhost\n",
    "from pymongo import MongoClient\n",
    "client = MongoClient()\n",
    "client = MongoClient('mongodb://localhost:27017/')"
   ]
  },
  {
   "cell_type": "code",
   "execution_count": 2,
   "metadata": {},
   "outputs": [
    {
     "data": {
      "text/plain": [
       "['Twitter', 'admin', 'bakirkoy-osm', 'chicago-osm', 'config', 'local']"
      ]
     },
     "execution_count": 2,
     "metadata": {},
     "output_type": "execute_result"
    }
   ],
   "source": [
    "#list the databases in local host\n",
    "\n",
    "client.list_database_names()"
   ]
  },
  {
   "cell_type": "code",
   "execution_count": 3,
   "metadata": {},
   "outputs": [],
   "source": [
    "#connect to the mongoDB named 'chicago-osm' in localhost\n",
    "db=client['chicago-osm']"
   ]
  },
  {
   "cell_type": "code",
   "execution_count": 4,
   "metadata": {},
   "outputs": [
    {
     "data": {
      "text/plain": [
       "['ways', 'nodes']"
      ]
     },
     "execution_count": 4,
     "metadata": {},
     "output_type": "execute_result"
    }
   ],
   "source": [
    "#list the collection names in the current database\n",
    "db.list_collection_names()"
   ]
  },
  {
   "cell_type": "code",
   "execution_count": 5,
   "metadata": {},
   "outputs": [],
   "source": [
    "#create variables to connect already existing collections in localhost\n",
    "col_nodes=db.nodes\n",
    "col_ways=db.ways"
   ]
  },
  {
   "cell_type": "code",
   "execution_count": 6,
   "metadata": {},
   "outputs": [
    {
     "data": {
      "text/plain": [
       "\"''        \\nAlternative approach\\nfor document in col_nodes.find({'address.document':{'$exists':True}}):\\n    postcodes.append(document['address']['postcode'])\\n\""
      ]
     },
     "execution_count": 6,
     "metadata": {},
     "output_type": "execute_result"
    }
   ],
   "source": [
    "#list the postcodes\n",
    "\n",
    "postcodes=[]\n",
    "\n",
    "for document in col_nodes.find({}):\n",
    "    if 'address' in document.keys():\n",
    "        if 'postcode' in document['address'].keys():\n",
    "            postcodes.append(document['address']['postcode'])\n",
    "\n",
    "'''''        \n",
    "Alternative approach\n",
    "for document in col_nodes.find({'address.document':{'$exists':True}}):\n",
    "    postcodes.append(document['address']['postcode'])\n",
    "'''''"
   ]
  },
  {
   "cell_type": "code",
   "execution_count": 7,
   "metadata": {},
   "outputs": [],
   "source": [
    "for document in col_ways.find({}):\n",
    "    if 'address' in document.keys():\n",
    "        if 'postcode' in document['address'].keys():\n",
    "            postcodes.append(document['address']['postcode'])"
   ]
  },
  {
   "cell_type": "code",
   "execution_count": 8,
   "metadata": {},
   "outputs": [
    {
     "data": {
      "text/plain": [
       "{'2300',\n",
       " '46307',\n",
       " '46311',\n",
       " '46312',\n",
       " '46320',\n",
       " '46321',\n",
       " '46322',\n",
       " '46323',\n",
       " '46324',\n",
       " '46394',\n",
       " '46406',\n",
       " '46410',\n",
       " '60004',\n",
       " '60005',\n",
       " '60007',\n",
       " '60007-3545',\n",
       " '60008',\n",
       " '60010',\n",
       " '60014',\n",
       " '60015',\n",
       " '60016',\n",
       " '60016-5608',\n",
       " '60016-5670',\n",
       " '60018',\n",
       " '60021',\n",
       " '60022',\n",
       " '60025',\n",
       " '60026',\n",
       " '60033',\n",
       " '60035',\n",
       " '60043',\n",
       " '60044',\n",
       " '60047',\n",
       " '60048',\n",
       " '60053',\n",
       " '60056',\n",
       " '60056-5712',\n",
       " '60060',\n",
       " '60061',\n",
       " '60062',\n",
       " '60067',\n",
       " '60068',\n",
       " '60070',\n",
       " '60074',\n",
       " '60076',\n",
       " '60076-2000',\n",
       " '60077',\n",
       " '60077-1314',\n",
       " '60077-3495',\n",
       " '60084',\n",
       " '60089',\n",
       " '60090',\n",
       " '60091',\n",
       " '60093',\n",
       " '60101',\n",
       " '60102',\n",
       " '60103',\n",
       " '60104',\n",
       " '60106',\n",
       " '60107',\n",
       " '60108',\n",
       " '60110',\n",
       " '60118',\n",
       " '60119',\n",
       " '60120',\n",
       " '60123',\n",
       " '60124',\n",
       " '60126',\n",
       " '60130',\n",
       " '60131',\n",
       " '60133',\n",
       " '60134',\n",
       " '60136',\n",
       " '60137',\n",
       " '60139',\n",
       " '60140',\n",
       " '60143',\n",
       " '60148',\n",
       " '60151',\n",
       " '60153',\n",
       " '60154',\n",
       " '60155',\n",
       " '60156',\n",
       " '60160',\n",
       " '60160-1607',\n",
       " '60162',\n",
       " '60163',\n",
       " '60164',\n",
       " '60165',\n",
       " '60169',\n",
       " '60171',\n",
       " '60173',\n",
       " '60174',\n",
       " '60175',\n",
       " '60176',\n",
       " '60177',\n",
       " '60181',\n",
       " '60183',\n",
       " '60185',\n",
       " '60187',\n",
       " '60188',\n",
       " '60189',\n",
       " '60189-8172',\n",
       " '60190',\n",
       " '60191',\n",
       " '60191-1983',\n",
       " '60192',\n",
       " '60193',\n",
       " '60194',\n",
       " '60195',\n",
       " '60201',\n",
       " '60202',\n",
       " '60208',\n",
       " '60301',\n",
       " '60302',\n",
       " '60305',\n",
       " '60402',\n",
       " '60404',\n",
       " '60406',\n",
       " '60409',\n",
       " '60409-9998',\n",
       " '60410',\n",
       " '60411',\n",
       " '60415',\n",
       " '60417',\n",
       " '60419',\n",
       " '60423',\n",
       " '60429',\n",
       " '60430',\n",
       " '60431',\n",
       " '60432',\n",
       " '60435',\n",
       " '60437',\n",
       " '60438',\n",
       " '60439',\n",
       " '60440',\n",
       " '60440-1412',\n",
       " '60441',\n",
       " '60442',\n",
       " '60443',\n",
       " '60445',\n",
       " '60446',\n",
       " '60449',\n",
       " '60450',\n",
       " '60451',\n",
       " '60452',\n",
       " '60453',\n",
       " '60459',\n",
       " '60462',\n",
       " '60463',\n",
       " '60467',\n",
       " '60475',\n",
       " '60477',\n",
       " '60480',\n",
       " '60490',\n",
       " '60491',\n",
       " '60502',\n",
       " '60503',\n",
       " '60504',\n",
       " '60504-7276',\n",
       " '60506',\n",
       " '6051',\n",
       " '60510',\n",
       " '60513',\n",
       " '60513-9998',\n",
       " '60514',\n",
       " '60515',\n",
       " '60516',\n",
       " '60517',\n",
       " '60521',\n",
       " '60521-2101',\n",
       " '60523',\n",
       " '60525',\n",
       " '60527',\n",
       " '60532',\n",
       " '60534',\n",
       " '60540',\n",
       " '60542',\n",
       " '60543',\n",
       " '60544',\n",
       " '60546',\n",
       " '60546-1262',\n",
       " '60554',\n",
       " '60555',\n",
       " '60558',\n",
       " '60559',\n",
       " '60560',\n",
       " '60563',\n",
       " '60564',\n",
       " '60565',\n",
       " '60585',\n",
       " '606',\n",
       " '60601',\n",
       " '60602',\n",
       " '60603',\n",
       " '60604',\n",
       " '60605',\n",
       " '60606',\n",
       " '60607',\n",
       " '60608',\n",
       " '60609',\n",
       " '60610',\n",
       " '60611',\n",
       " '60611 ',\n",
       " '60612',\n",
       " '60613',\n",
       " '60614',\n",
       " '60614 ',\n",
       " '60615',\n",
       " '60615-5299',\n",
       " '60616',\n",
       " '60617',\n",
       " '60618',\n",
       " '60619',\n",
       " '60620',\n",
       " '60621',\n",
       " '60622',\n",
       " '60623',\n",
       " '60624',\n",
       " '60625',\n",
       " '60626',\n",
       " '60627',\n",
       " '60628',\n",
       " '60629',\n",
       " '60630',\n",
       " '60631',\n",
       " '60632',\n",
       " '60633',\n",
       " '60634',\n",
       " '60636',\n",
       " '60637',\n",
       " '60637 ',\n",
       " '60638',\n",
       " '60639',\n",
       " '60640',\n",
       " '60641',\n",
       " '60642',\n",
       " '60643',\n",
       " '60644',\n",
       " '60645',\n",
       " '60646',\n",
       " '60647',\n",
       " '60649',\n",
       " '60651',\n",
       " '60652',\n",
       " '60653',\n",
       " '60654',\n",
       " '60654-5799',\n",
       " '60655',\n",
       " '60656',\n",
       " '60657',\n",
       " '60659',\n",
       " '60660',\n",
       " '60660-4199',\n",
       " '60661',\n",
       " '60706',\n",
       " '60707',\n",
       " '60712',\n",
       " '60712-2716',\n",
       " '60714',\n",
       " '60803',\n",
       " '60804',\n",
       " '60805',\n",
       " '60827',\n",
       " '60827-6427',\n",
       " 'IL',\n",
       " 'IL, 60642',\n",
       " 'Il',\n",
       " 'bulk_upload.pl-3f69f4e1-b66c-4277-9b2a-1347f8f5e03c',\n",
       " 'bulk_upload.pl-ee310570-36cc-43bc-bc7b-aff94618acaf'}"
      ]
     },
     "execution_count": 8,
     "metadata": {},
     "output_type": "execute_result"
    }
   ],
   "source": [
    "set(postcodes)"
   ]
  },
  {
   "cell_type": "code",
   "execution_count": 9,
   "metadata": {},
   "outputs": [],
   "source": [
    "#We have two valid postcode formats: 'ddddd' or 'ddddd-dddd'  (d for digit)\n",
    "#list the exceptional cases\n",
    "\n",
    "import re\n",
    "\n",
    "\n",
    "\n",
    "postcodes_1=[] #for format 1\n",
    "postcodes_2=[] # for format 2\n",
    "exceptionals=[]\n",
    "\n",
    "for postcode in set(postcodes):\n",
    "    if postcode.find('-')>-1:\n",
    "        l=postcode.strip().split('-')\n",
    "        if len(l)>2:\n",
    "            exceptionals.append(postcode)\n",
    "        else:\n",
    "            if l[0].isdigit() and l[1].isdigit() and len(l[0])==5 and len(l[1])==4:\n",
    "                postcodes_2.append(postcode)\n",
    "            else:\n",
    "                exceptionals.append(postcode)\n",
    "    else:\n",
    "        if postcode.strip().isdigit() and len(postcode.strip())==5:\n",
    "            postcodes_1.append(postcode)\n",
    "        else:\n",
    "            exceptionals.append(postcode)\n",
    "\n",
    "        \n",
    "    \n",
    "\n",
    "\n"
   ]
  },
  {
   "cell_type": "code",
   "execution_count": 10,
   "metadata": {},
   "outputs": [
    {
     "data": {
      "text/plain": [
       "['bulk_upload.pl-3f69f4e1-b66c-4277-9b2a-1347f8f5e03c',\n",
       " '6051',\n",
       " '2300',\n",
       " 'IL, 60642',\n",
       " 'IL',\n",
       " 'Il',\n",
       " 'bulk_upload.pl-ee310570-36cc-43bc-bc7b-aff94618acaf',\n",
       " '606']"
      ]
     },
     "execution_count": 10,
     "metadata": {},
     "output_type": "execute_result"
    }
   ],
   "source": [
    "exceptionals"
   ]
  },
  {
   "cell_type": "code",
   "execution_count": 11,
   "metadata": {},
   "outputs": [
    {
     "name": "stdout",
     "output_type": "stream",
     "text": [
      "{'_id': ObjectId('5c438b85fa95fb3b24c630ec'), 'created': {'changeset': '14355794', 'timestamp': '2012-12-21T15:22:35Z', 'uid': '1153830', 'user': 'djapeman', 'version': '1'}, 'address': {'housename': 'Delta Freight Systems', 'housenumber': '203', 'postcode': '2300', 'street': 'East Higgins Road'}, 'pos': [42.0116047, -87.9449511], 'type': 'node', 'id': '2077572531', 'building': 'office', 'name': 'Delta Freight Systems'}\n",
      "{'_id': ObjectId('5c439009fa95fb3b24f40dcc'), 'created': {'changeset': '16370760', 'timestamp': '2013-05-31T20:48:00Z', 'uid': '1430519', 'user': 'cubistcastle', 'version': '2'}, 'address': {'city': 'Chicago', 'housenumber': '4437', 'postcode': 'IL', 'street': 'North Ravenswood Avenue'}, 'pos': [41.9625013, -87.6736826], 'type': 'node', 'id': '2324548740', 'name': 'Lillstreet Loft', 'website': 'http://lillstreetloft.com'}\n",
      "{'_id': ObjectId('5c439096fa95fb3b24f985e7'), 'created': {'changeset': '19206041', 'timestamp': '2013-12-01T08:44:40Z', 'uid': '355617', 'user': 'pnorman', 'version': '3'}, 'address': {'city': 'Chicago', 'housenumber': '700', 'postcode': 'IL, 60642', 'street': 'North Green Street', 'suite': '501'}, 'pos': [41.8952764, -87.6491138], 'type': 'node', 'id': '2552808933', 'name': 'Comrade Web Agency', 'payment:bitcoin': 'yes', 'phone': '+13122650580', 'website': 'http://comradeweb.com/'}\n"
     ]
    }
   ],
   "source": [
    "#examine the exceptionals\n",
    "\n",
    "for document in col_nodes.find({}):\n",
    "    if 'address' in document.keys():\n",
    "        if 'postcode' in document['address'].keys():\n",
    "            if document['address']['postcode'] in exceptionals:\n",
    "                print(document)"
   ]
  },
  {
   "cell_type": "code",
   "execution_count": 12,
   "metadata": {},
   "outputs": [
    {
     "name": "stdout",
     "output_type": "stream",
     "text": [
      "{'_id': ObjectId('5c4390bffa95fb3b24facf61'), 'created': {'changeset': '6404046', 'timestamp': '2010-11-18T23:41:14Z', 'uid': '239998', 'user': 'Sundance', 'version': '4'}, 'address': {'postcode': 'bulk_upload.pl-ee310570-36cc-43bc-bc7b-aff94618acaf'}, 'node_refs': ['994143294', '261272225', '261205469', '994143256'], 'type': 'way', 'id': '24099793', 'highway': 'residential', 'is_in': 'Cook, IL', 'name': 'Timbers Edge Lane', 'tiger:source': 'tiger_import_dch_v0.6_20070809', 'tiger:tlid': '112359557:112359560:112359561:112385838', 'tiger:zip_right': '60025'}\n",
      "{'_id': ObjectId('5c4390dffa95fb3b24fbbf4d'), 'created': {'changeset': '12940302', 'timestamp': '2012-09-01T09:43:04Z', 'uid': '207745', 'user': 'NE2', 'version': '3'}, 'address': {'postcode': 'bulk_upload.pl-3f69f4e1-b66c-4277-9b2a-1347f8f5e03c'}, 'node_refs': ['850375946', '850375951', '850375949', '850375952', '850375950', '850375948', '237832597'], 'type': 'way', 'id': '71485904', 'highway': 'secondary_link', 'oneway': 'yes', 'tiger:source': 'tiger_import_dch_v0.6_20070809', 'tiger:tlid': '112734542:112564397', 'tiger:zip_right': '60515'}\n",
      "{'_id': ObjectId('5c4390e2fa95fb3b24fbd57a'), 'created': {'changeset': '6404046', 'timestamp': '2010-11-18T23:41:11Z', 'uid': '239998', 'user': 'Sundance', 'version': '1'}, 'address': {'postcode': 'bulk_upload.pl-ee310570-36cc-43bc-bc7b-aff94618acaf'}, 'node_refs': ['994143256', '994143257', '994143259', '994143260', '994143261', '994143263', '994143265', '994143268', '994143269', '994143271', '994143274', '994143275', '994143277', '994143278', '994143279', '994143280', '994143281', '994143282', '994143283', '994143256'], 'type': 'way', 'id': '85684941', 'highway': 'residential', 'is_in': 'Cook, IL', 'name': 'Timbers Edge Lane', 'oneway': 'yes', 'tiger:source': 'tiger_import_dch_v0.6_20070809', 'tiger:tlid': '112359557:112359560:112359561:112385838', 'tiger:zip_right': '60025'}\n",
      "{'_id': ObjectId('5c4390e2fa95fb3b24fbd57b'), 'created': {'changeset': '6404046', 'timestamp': '2010-11-18T23:41:13Z', 'uid': '239998', 'user': 'Sundance', 'version': '1'}, 'address': {'postcode': 'bulk_upload.pl-ee310570-36cc-43bc-bc7b-aff94618acaf'}, 'node_refs': ['994143291', '994143294', '994143296', '994143297', '994143300', '994143301', '994143303', '994143304', '994143305', '994143308', '994143309', '994143311', '994143312', '994143313', '994143314', '994143316', '994143317', '994143318', '994143291'], 'type': 'way', 'id': '85684942', 'highway': 'residential', 'is_in': 'Cook, IL', 'name': 'Timbers Edge Lane', 'oneway': 'yes', 'tiger:source': 'tiger_import_dch_v0.6_20070809', 'tiger:tlid': '112359557:112359560:112359561:112385838', 'tiger:zip_right': '60025'}\n",
      "{'_id': ObjectId('5c439222fa95fb3b24059f86'), 'created': {'changeset': '15361227', 'timestamp': '2013-03-14T11:57:34Z', 'uid': '567034', 'user': 'Umbugbene', 'version': '1'}, 'address': {'housenumber': '9233-9235', 'postcode': '606', 'street': 'South Hamilton Avenue'}, 'node_refs': ['2198099265', '2198099676', '2198099714', '2198099719', '2198099734', '2198099771', '2198099795', '2198099823', '2198099850', '2198099865', '2198099875', '2198099883', '2198100119', '2198100114', '2198100112', '2198100111', '2198100066', '2198099971', '2198099888', '2198099788', '2198099704', '2198099691', '2198099365', '2198099393', '2198099265'], 'type': 'way', 'id': '209995589', 'amenity': 'place_of_worship', 'building': 'church', 'chicago:building_id': '693705', 'denomination': 'catholic', 'ele': '201', 'gnis:county_id': '031', 'gnis:created': '04/01/1999', 'gnis:feature_id': '1826032', 'gnis:state_id': '17', 'name': 'Christ the King Roman Catholic Church', 'religion': 'christian'}\n",
      "{'_id': ObjectId('5c439243fa95fb3b2406b83c'), 'created': {'changeset': '17474379', 'timestamp': '2013-08-23T19:26:23Z', 'uid': '1722921', 'user': 'rmaus', 'version': '3'}, 'address': {'city': 'Chicago', 'housename': 'One River Place', 'housenumber': '758', 'postcode': 'IL', 'street': 'North Larrabee Street'}, 'node_refs': ['2203941608', '2203942617', '2203942626', '2203941614', '2203941608'], 'type': 'way', 'id': '210307811', 'building': 'apartments', 'building:levels': '9', 'chicago:building_id': '338617'}\n",
      "{'_id': ObjectId('5c4392a2fa95fb3b2409a40e'), 'created': {'changeset': '15803967', 'timestamp': '2013-04-20T21:26:47Z', 'uid': '1333285', 'user': 'bobws', 'version': '1'}, 'address': {'city': 'Winnetka', 'housename': 'Home Alone House', 'postcode': 'Il', 'street': 'Lincoln Avenue'}, 'node_refs': ['2274341330', '2274341331', '2274341332', '2274341333', '2274341334', '2274341335', '2274341336', '2274341337', '2274341338', '2274341339', '2274341330'], 'type': 'way', 'id': '218159249', 'building': 'yes', 'name': 'The Home Alone House'}\n",
      "{'_id': ObjectId('5c4392a6fa95fb3b2409cc9e'), 'created': {'changeset': '16687028', 'timestamp': '2013-06-24T16:47:31Z', 'uid': '1539155', 'user': 'GXCEB0TOSM', 'version': '1'}, 'address': {'city': 'Hinsdale', 'housenumber': '711', 'postcode': '6051', 'street': 'South Jackson Street'}, 'node_refs': ['2359066653', '2359066656', '2359066658', '2359066660', '2359066662', '2359066664', '2359066653'], 'type': 'way', 'id': '227188616', 'building': 'house'}\n"
     ]
    }
   ],
   "source": [
    "#examine the exceptionals\n",
    "\n",
    "for document in col_ways.find({}):\n",
    "    if 'address' in document.keys():\n",
    "        if 'postcode' in document['address'].keys():\n",
    "            if document['address']['postcode'] in exceptionals:\n",
    "                print(document)"
   ]
  },
  {
   "cell_type": "code",
   "execution_count": 13,
   "metadata": {},
   "outputs": [
    {
     "data": {
      "text/plain": [
       "<pymongo.results.UpdateResult at 0x1e6f0e45ac8>"
      ]
     },
     "execution_count": 13,
     "metadata": {},
     "output_type": "execute_result"
    }
   ],
   "source": [
    "\n",
    "\n",
    "\n",
    "# update the above exceptional cases\n",
    "\n",
    "#nodes\n",
    "\n",
    "col_nodes.update_one({'id': '2077572531'}, { \"$set\": { \"address.postcode\":\"60007\",\"address.housenumber\":'2300' } } ) \n",
    "col_nodes.update_one({'id': '2324548740'}, { \"$set\": { \"address.postcode\":'60640'} } ) \n",
    "col_nodes.update_one({'id': '2552808933'}, { \"$set\": { \"address.postcode\":'60642'} } ) \n",
    "\n",
    "#ways\n",
    "\n",
    "col_ways.update_one({'id':  '24099793'}, { \"$set\": { \"address.postcode\":'60025' } } ) \n",
    "col_ways.update_one({'id':  '71485904'}, { \"$set\": { \"address.postcode\":'60515' } } ) \n",
    "col_ways.update_one({'id': '85684941'}, { \"$set\": { \"address.postcode\":'60025' } } ) \n",
    "col_ways.update_one({'id': '85684942'}, { \"$set\": { \"address.postcode\":'60025' } } ) \n",
    "col_ways.update_one({'id': '209995589'}, { \"$set\": { \"address.postcode\":'60620' } } ) \n",
    "col_ways.update_one({'id': '210307811'}, { \"$set\": { \"address.postcode\":'60654' } } ) \n",
    "col_ways.update_one({'id': '218159249'}, { \"$set\": { \"address.postcode\":'60093' } } ) \n",
    "col_ways.update_one({'id': '227188616'}, { \"$set\": { \"address.postcode\":'60521' } } ) \n",
    "\n",
    "\n"
   ]
  },
  {
   "cell_type": "markdown",
   "metadata": {},
   "source": [
    "US phone number can have all of the formats listed below:\n",
    "\n",
    "1) 754-3010          Local\n",
    "\n",
    "2) (541) 754-3010    Domestic\n",
    "\n",
    "3) +1-541-754-3010   International\n",
    "\n",
    "4) 1-541-754-3010    Dialed in the US\n",
    "\n",
    "5) 001-541-754-3010  Dialed from Germany\n",
    "\n",
    "\n",
    "\n"
   ]
  },
  {
   "cell_type": "code",
   "execution_count": 16,
   "metadata": {},
   "outputs": [],
   "source": [
    "import re\n",
    "\n",
    "#numeric part of phone number must consists of 7,10,11 digits\n",
    "\n",
    "phone_numbers_with_letters=[]\n",
    "phone_numbers_with_7digits=[]\n",
    "phone_numbers_with_10digits=[]\n",
    "phone_numbers_with_11digits=[]\n",
    "others=[]\n",
    "\n",
    "for document in col_nodes.find( { 'phone': { \"$exists\": True } } ):\n",
    "    \n",
    "    digits_in_phone_number=re.findall(re.compile(r'[0-9]'), document['phone'])\n",
    "    alphabetic_part=re.sub(re.compile(r'[^a-z]'),'',document['phone'].lower())\n",
    "    number_of_digits=len(digits_in_phone_number)\n",
    "    \n",
    "    if  alphabetic_part!=\"\":\n",
    "        phone_numbers_with_letters.append(document['phone'])\n",
    "    else:\n",
    "        if number_of_digits==7:\n",
    "            phone_numbers_with_7digits.append(document['phone'])\n",
    "        elif  number_of_digits==10:\n",
    "            phone_numbers_with_10digits.append(document['phone'])\n",
    "        elif  number_of_digits==11:\n",
    "            phone_numbers_with_11digits.append(document['phone'])\n",
    "        else:\n",
    "            others.append(document['phone'])\n"
   ]
  },
  {
   "cell_type": "code",
   "execution_count": 18,
   "metadata": {},
   "outputs": [],
   "source": [
    "for document in col_ways.find( { 'phone': { \"$exists\": True } } ):\n",
    "    \n",
    "    digits_in_phone_number=re.findall(re.compile(r'[0-9]'), document['phone'])\n",
    "    alphabetic_part=re.sub(re.compile(r'[^a-z]'),'',document['phone'].lower())\n",
    "    number_of_digits=len(digits_in_phone_number)\n",
    "    \n",
    "    if  alphabetic_part!=\"\":\n",
    "        phone_numbers_with_letters.append(document['phone'])\n",
    "    else:\n",
    "        if number_of_digits==7:\n",
    "            phone_numbers_with_7digits.append(document['phone'])\n",
    "        elif  number_of_digits==10:\n",
    "            phone_numbers_with_10digits.append(document['phone'])\n",
    "        elif  number_of_digits==11:\n",
    "            phone_numbers_with_11digits.append(document['phone'])\n",
    "        else:\n",
    "            others.append(document['phone'])\n",
    "        \n"
   ]
  },
  {
   "cell_type": "code",
   "execution_count": 23,
   "metadata": {},
   "outputs": [
    {
     "name": "stdout",
     "output_type": "stream",
     "text": [
      "['847-864-EDZO', 'tel:(773) 262-5835', '773-764-BARK']\n",
      "['847-259-056']\n"
     ]
    }
   ],
   "source": [
    "print(phone_numbers_with_letters)\n",
    "print(others)"
   ]
  },
  {
   "cell_type": "code",
   "execution_count": 25,
   "metadata": {},
   "outputs": [
    {
     "name": "stdout",
     "output_type": "stream",
     "text": [
      "{'_id': ObjectId('5c4385a9fa95fb3b248bfe32'), 'created': {'changeset': '10440721', 'timestamp': '2012-01-19T20:11:06Z', 'uid': '239998', 'user': 'Sundance', 'version': '3'}, 'pos': [42.1522347, -87.9859869], 'type': 'node', 'id': '307816996', 'amenity': 'restaurant', 'cuisine': 'italian', 'name': 'Pompei Pizza & Pasta', 'phone': '847-259-056', 'website': 'http://www.pompeipizzapasta.net/'}\n",
      "{'_id': ObjectId('5c438bb9fa95fb3b24c839a8'), 'created': {'changeset': '16021452', 'timestamp': '2013-05-08T00:21:05Z', 'uid': '4732', 'user': 'iandees', 'version': '2'}, 'address': {'city': 'Evanston', 'housenumber': '1571', 'postcode': '60201', 'street': 'Sherman Avenue'}, 'pos': [42.0461989, -87.6815357], 'type': 'node', 'id': '2156521636', 'amenity': 'restaurant', 'cuisine': 'burger', 'name': \"Edzo's Burger Shop\", 'opening_hours': 'Tu-Su 10:30-16:00', 'phone': '847-864-EDZO'}\n",
      "{'_id': ObjectId('5c438ffefa95fb3b24f3a1b1'), 'created': {'changeset': '16120114', 'timestamp': '2013-05-14T05:06:37Z', 'uid': '1442769', 'user': 'Justin Haugens', 'version': '1'}, 'address': {'city': 'Chicago', 'housenumber': '7340', 'postcode': '60626', 'street': 'North Rogers Avenue'}, 'pos': [42.017061, -87.676771], 'type': 'node', 'id': '2303367993', 'leisure': 'dog_park', 'name': 'Pottawattomie Dog Park', 'opening_hours': 'Park: 6am - 11pm\\nFieldhouse: M-F 10am - 9pm, Sa 10am - 5pm, Su Closed', 'operator': 'Chicago Park District', 'phone': 'tel:(773) 262-5835'}\n",
      "{'_id': ObjectId('5c43908ffa95fb3b24f9465c'), 'created': {'changeset': '18936999', 'timestamp': '2013-11-16T16:53:12Z', 'uid': '4732', 'user': 'iandees', 'version': '1'}, 'address': {'housenumber': '7011', 'street': 'North Sheridan Road'}, 'pos': [42.0095917, -87.6619916], 'type': 'node', 'id': '2535218176', 'name': 'Grooming by Galdy', 'phone': '773-764-BARK', 'shop': 'pet'}\n"
     ]
    }
   ],
   "source": [
    "#possibly problematic cases\n",
    "\n",
    "for document in col_nodes.find( {  'phone':{'$in':phone_numbers_with_letters+others}} ):\n",
    "    print(document)\n",
    "for document in col_ways.find( { 'phone':{'$in':phone_numbers_with_letters+others}} ):\n",
    "    print(document)\n",
    "# EDZO ----> 3396\n",
    "# BARK ----> 2275\n",
    "#847-259-056---->847-259-0560"
   ]
  },
  {
   "cell_type": "code",
   "execution_count": 26,
   "metadata": {},
   "outputs": [
    {
     "data": {
      "text/plain": [
       "<pymongo.results.UpdateResult at 0x1e6f603c948>"
      ]
     },
     "execution_count": 26,
     "metadata": {},
     "output_type": "execute_result"
    }
   ],
   "source": [
    "#cure the above four cases\n",
    "\n",
    "col_nodes.update_one({'id': '307816996'},{ \"$set\": { \"phone\":'(847) 259-0560'} })\n",
    "col_nodes.update_one({'id': '2156521636'},{ \"$set\": { \"phone\":'(847) 864-3396'} })\n",
    "col_nodes.update_one({'id': '2303367993'},{ \"$set\": { \"phone\":'(773) 262-5835'} })\n",
    "col_nodes.update_one({'id': '2535218176'},{ \"$set\": { \"phone\":'(773) 764-2275'} })"
   ]
  },
  {
   "cell_type": "code",
   "execution_count": 27,
   "metadata": {},
   "outputs": [
    {
     "name": "stdout",
     "output_type": "stream",
     "text": [
      "{'_id': ObjectId('5c438693fa95fb3b24947a7c'), 'created': {'changeset': '8467053', 'timestamp': '2011-06-17T18:19:25Z', 'uid': '239998', 'user': 'Sundance', 'version': '3'}, 'pos': [41.8725708, -87.6289165], 'type': 'node', 'id': '566504090', 'amenity': 'restaurant', 'cuisine': 'western', 'name': \"Hackney's\", 'phone': '(312)-1116', 'source:name': 'local_knowledge', 'website': 'http://www.hackneysprintersrow.net/'}\n",
      "{'_id': ObjectId('5c438725fa95fb3b249a0f1f'), 'created': {'changeset': '8467053', 'timestamp': '2011-06-17T18:19:22Z', 'uid': '239998', 'user': 'Sundance', 'version': '1'}, 'pos': [41.8725408, -87.6289194], 'type': 'node', 'id': '1328774244', 'amenity': 'pub', 'name': \"Hackney's\", 'phone': '(312)-1116', 'source:name': 'local_knowledge', 'website': 'http://www.hackneysprintersrow.net/'}\n",
      "{'_id': ObjectId('5c438bb8fa95fb3b24c8346b'), 'created': {'changeset': '16019644', 'timestamp': '2013-05-07T21:20:05Z', 'uid': '4732', 'user': 'iandees', 'version': '2'}, 'address': {'city': 'Evanston', 'housenumber': '628', 'postcode': '60201', 'street': 'Church Street'}, 'pos': [42.0479546, -87.6802348], 'type': 'node', 'id': '2154860770', 'name': 'Fashion Nails', 'phone': '424-1125', 'shop': 'salon'}\n",
      "{'_id': ObjectId('5c438d88fa95fb3b24dac6e9'), 'created': {'changeset': '16019644', 'timestamp': '2013-05-07T21:20:05Z', 'uid': '4732', 'user': 'iandees', 'version': '2'}, 'address': {'city': 'Evanston', 'housenumber': '606', 'postcode': '60201', 'street': 'Davis Street'}, 'pos': [42.0462093, -87.6803484], 'type': 'node', 'id': '2202198669', 'name': 'Comix', 'phone': '866-8659', 'shop': 'books'}\n",
      "{'_id': ObjectId('5c438ff5fa95fb3b24f34351'), 'created': {'changeset': '17418971', 'timestamp': '2013-08-19T22:53:45Z', 'uid': '4732', 'user': 'iandees', 'version': '2'}, 'address': {'city': 'Evanston', 'housenumber': '1629', 'postcode': '60201', 'street': 'Chicago Avenue'}, 'pos': [42.0471701, -87.678917], 'type': 'node', 'id': '2295226304', 'name': 'Accelerated Rehabilitation Center', 'phone': '475-1630'}\n"
     ]
    }
   ],
   "source": [
    "#some suspicious cases\n",
    "#are phone numbers containing seven digits really local?\n",
    "\n",
    "for document in col_nodes.find( { 'phone': { \"$exists\": True } } ):\n",
    "    digits_in_phone_number=re.findall(re.compile(r'[0-9]'), document['phone'])\n",
    "    number_of_digits=len(digits_in_phone_number)\n",
    "    if number_of_digits==7:\n",
    "        print(document)"
   ]
  },
  {
   "cell_type": "code",
   "execution_count": 28,
   "metadata": {},
   "outputs": [],
   "source": [
    "#some suspicious cases\n",
    "#are phone numbers containing seven digits really local?\n",
    "\n",
    "for document in col_ways.find( { 'phone': { \"$exists\": True } } ):\n",
    "    digits_in_phone_number=re.findall(re.compile(r'[0-9]'), document['phone'])\n",
    "    number_of_digits=len(digits_in_phone_number)\n",
    "    if number_of_digits==7:\n",
    "        print(document)"
   ]
  },
  {
   "cell_type": "code",
   "execution_count": 29,
   "metadata": {},
   "outputs": [
    {
     "data": {
      "text/plain": [
       "<pymongo.results.UpdateResult at 0x1e6f5406048>"
      ]
     },
     "execution_count": 29,
     "metadata": {},
     "output_type": "execute_result"
    }
   ],
   "source": [
    "# the phone number (312)-1116 seem as  local, but 312 is an area code, so there seems something missing\n",
    "#actually it should be 312-461-1116\n",
    "\n",
    "\n",
    "col_nodes.update_one({'id':  '566504090'}, { \"$set\": { \"phone\":'312-461-1116'} } ) \n",
    "col_nodes.update_one({'id': '1328774244'}, { \"$set\": { \"phone\":'312-461-1116'} } ) "
   ]
  },
  {
   "cell_type": "code",
   "execution_count": 30,
   "metadata": {},
   "outputs": [],
   "source": [
    "# convert phone numbers into valid forms\n",
    "\n",
    "def parsing_phone_number(phone_number):\n",
    "    digits_in_phone_number=re.findall(re.compile(r'[0-9]'), phone_number)\n",
    "    number_of_digits=len(digits_in_phone_number)\n",
    "    \n",
    "    \n",
    "    if phone_number.startswith('+1'):\n",
    "        if number_of_digits==11:\n",
    "            return '+1-'+digits_in_phone_number[1]+digits_in_phone_number[2]+digits_in_phone_number[3]+'-'+digits_in_phone_number[4]+digits_in_phone_number[5]+digits_in_phone_number[6]+'-'+digits_in_phone_number[7]+digits_in_phone_number[8]+digits_in_phone_number[9]+digits_in_phone_number[10]\n",
    "        \n",
    "    elif phone_number.startswith('1'):\n",
    "        if number_of_digits==11:\n",
    "            return '1-'+digits_in_phone_number[1]+digits_in_phone_number[2]+digits_in_phone_number[3]+'-'+digits_in_phone_number[4]+digits_in_phone_number[5]+digits_in_phone_number[6]+'-'+digits_in_phone_number[7]+digits_in_phone_number[8]+digits_in_phone_number[9]+digits_in_phone_number[10]\n",
    "        \n",
    "    elif number_of_digits==10:\n",
    "        return '('+digits_in_phone_number[0]+digits_in_phone_number[1]+digits_in_phone_number[2]+') '+digits_in_phone_number[3]+digits_in_phone_number[4]+digits_in_phone_number[5]+'-'+digits_in_phone_number[6]+digits_in_phone_number[7]+digits_in_phone_number[8]+digits_in_phone_number[9]\n",
    "    elif number_of_digits==7:\n",
    "        return digits_in_phone_number[0]+digits_in_phone_number[1]+digits_in_phone_number[2]+'-'+digits_in_phone_number[3]+digits_in_phone_number[4]+digits_in_phone_number[5]+digits_in_phone_number[6]\n",
    "    else:\n",
    "        return phone_number\n",
    "           \n",
    "        "
   ]
  },
  {
   "cell_type": "code",
   "execution_count": 33,
   "metadata": {},
   "outputs": [],
   "source": [
    "#now update all phone numbers by applying our function to all documents containing phone numbers\n",
    "\n",
    "for document in col_nodes.find( { 'phone': { \"$exists\": True } } ):\n",
    "    new_phone_number=parsing_phone_number(document['phone'])\n",
    "    col_nodes.update_one({'id':document['id']},{\"$set\":{'phone':new_phone_number}})\n",
    "\n",
    "#This approach is actually ineffective as  we search for already found document in update statement.\n",
    "#What we actually want is to apply parsing_phone_number function to all documents in the cursor\n",
    "#col_nodes.find( { 'phone': { \"$exists\": True } } ). This is possible in mongo shell via the cursor function forEach.\n",
    "#But forEach is java function, it apply a function coded in java to all documents in the cursor. \n",
    "#I havent known of python correspondent to this yet."
   ]
  },
  {
   "cell_type": "code",
   "execution_count": 34,
   "metadata": {},
   "outputs": [],
   "source": [
    "for document in col_ways.find( { 'phone': { \"$exists\": True } } ):\n",
    "    new_phone_number=parsing_phone_number(document['phone'])\n",
    "    col_ways.update_one({'id':document['id']},{\"$set\":{'phone':new_phone_number}})\n"
   ]
  },
  {
   "cell_type": "code",
   "execution_count": null,
   "metadata": {},
   "outputs": [],
   "source": []
  }
 ],
 "metadata": {
  "kernelspec": {
   "display_name": "Python 3",
   "language": "python",
   "name": "python3"
  },
  "language_info": {
   "codemirror_mode": {
    "name": "ipython",
    "version": 3
   },
   "file_extension": ".py",
   "mimetype": "text/x-python",
   "name": "python",
   "nbconvert_exporter": "python",
   "pygments_lexer": "ipython3",
   "version": "3.6.4"
  }
 },
 "nbformat": 4,
 "nbformat_minor": 2
}
